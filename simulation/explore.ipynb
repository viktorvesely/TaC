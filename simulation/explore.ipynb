{
 "cells": [
  {
   "cell_type": "code",
   "execution_count": 11,
   "metadata": {},
   "outputs": [
    {
     "data": {
      "text/plain": [
       "array([0.64999744, 1.03000474])"
      ]
     },
     "execution_count": 11,
     "metadata": {},
     "output_type": "execute_result"
    }
   ],
   "source": [
    "from typing import Self\n",
    "import numpy as np\n",
    "\n",
    "class CameraMatrix:\n",
    "    __slots__ = ('m',)\n",
    "\n",
    "    def __init__(self, m: np.ndarray) -> None:\n",
    "        self.m = m\n",
    "\n",
    "    def __matmul__(self, p: np.ndarray) -> np.ndarray:\n",
    "        p = [p[0], p[1], 1]\n",
    "        projected = self.m @ p\n",
    "        return projected[:-1]\n",
    "    \n",
    "    def __str__(self) -> str:\n",
    "        return str(self.m)\n",
    "    \n",
    "    def __repr__(self) -> str:\n",
    "        return str(self.m)\n",
    "\n",
    "class Camera:\n",
    "\n",
    "    def __init__(self, window_size: np.ndarray, positon: np.ndarray, zoom: float = 1.0) -> None:\n",
    "        \n",
    "        self.position = positon\n",
    "        self.zoom = zoom\n",
    "\n",
    "        self._window_shift: np.ndarray = np.array([\n",
    "            [1, 0, window_size[0] / 2],\n",
    "            [0, 1, window_size[1] / 2],\n",
    "            [0, 0, 1]\n",
    "        ])\n",
    "\n",
    "        self.worldToScreen: CameraMatrix = None\n",
    "        self.screenToWorld: CameraMatrix = None\n",
    "        self.update()\n",
    "\n",
    "    def update(self):\n",
    "\n",
    "        translation = np.array([\n",
    "            [1, 0, -self.position[0]],\n",
    "            [0, 1, -self.position[1]],\n",
    "            [0, 0, 1]\n",
    "        ])\n",
    "\n",
    "        scaling = np.array([\n",
    "            [self.zoom, 0, 0],\n",
    "            [0, self.zoom, 0],\n",
    "            [0, 0, 1]\n",
    "        ])\n",
    "\n",
    "        self.worldToScreen = CameraMatrix(self._window_shift @ scaling @ translation)\n",
    "        self.screenToWorld = CameraMatrix(np.linalg.inv(self.worldToScreen))\n",
    "\n",
    "\n",
    "    def moveBy(self, by: np.ndarray):\n",
    "        self.position = self.position + by\n",
    "        self.update()\n",
    "\n",
    "    def zoomBy(self, by: float):\n",
    "        self.zoom += by\n",
    "        self.update()\n",
    "\n",
    "\n",
    "c = CameraMatrix(np.random.random((3, 3)))\n",
    "c @ np.random.random(2)\n"
   ]
  }
 ],
 "metadata": {
  "kernelspec": {
   "display_name": "Python 3",
   "language": "python",
   "name": "python3"
  },
  "language_info": {
   "codemirror_mode": {
    "name": "ipython",
    "version": 3
   },
   "file_extension": ".py",
   "mimetype": "text/x-python",
   "name": "python",
   "nbconvert_exporter": "python",
   "pygments_lexer": "ipython3",
   "version": "3.12.0"
  }
 },
 "nbformat": 4,
 "nbformat_minor": 2
}
